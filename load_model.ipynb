{
 "cells": [
  {
   "cell_type": "code",
   "execution_count": 2,
   "metadata": {},
   "outputs": [],
   "source": [
    "import torch"
   ]
  },
  {
   "cell_type": "code",
   "execution_count": 4,
   "metadata": {},
   "outputs": [],
   "source": [
    "model = torch.load('trained/resnet18_MNIST_D-SGD_MNIST_66_best.pt', weights_only=True)"
   ]
  },
  {
   "cell_type": "code",
   "execution_count": 8,
   "metadata": {},
   "outputs": [
    {
     "data": {
      "text/plain": [
       "odict_keys(['seq.conv1.weight', 'seq.bn1.weight', 'seq.bn1.bias', 'seq.bn1.running_mean', 'seq.bn1.running_var', 'seq.bn1.num_batches_tracked', 'seq.layer1.0.conv1.weight', 'seq.layer1.0.bn1.weight', 'seq.layer1.0.bn1.bias', 'seq.layer1.0.bn1.running_mean', 'seq.layer1.0.bn1.running_var', 'seq.layer1.0.bn1.num_batches_tracked', 'seq.layer1.0.conv2.weight', 'seq.layer1.0.bn2.weight', 'seq.layer1.0.bn2.bias', 'seq.layer1.0.bn2.running_mean', 'seq.layer1.0.bn2.running_var', 'seq.layer1.0.bn2.num_batches_tracked', 'seq.layer1.1.conv1.weight', 'seq.layer1.1.bn1.weight', 'seq.layer1.1.bn1.bias', 'seq.layer1.1.bn1.running_mean', 'seq.layer1.1.bn1.running_var', 'seq.layer1.1.bn1.num_batches_tracked', 'seq.layer1.1.conv2.weight', 'seq.layer1.1.bn2.weight', 'seq.layer1.1.bn2.bias', 'seq.layer1.1.bn2.running_mean', 'seq.layer1.1.bn2.running_var', 'seq.layer1.1.bn2.num_batches_tracked', 'seq.layer2.0.conv1.weight', 'seq.layer2.0.bn1.weight', 'seq.layer2.0.bn1.bias', 'seq.layer2.0.bn1.running_mean', 'seq.layer2.0.bn1.running_var', 'seq.layer2.0.bn1.num_batches_tracked', 'seq.layer2.0.conv2.weight', 'seq.layer2.0.bn2.weight', 'seq.layer2.0.bn2.bias', 'seq.layer2.0.bn2.running_mean', 'seq.layer2.0.bn2.running_var', 'seq.layer2.0.bn2.num_batches_tracked', 'seq.layer2.0.downsample.0.weight', 'seq.layer2.0.downsample.1.weight', 'seq.layer2.0.downsample.1.bias', 'seq.layer2.0.downsample.1.running_mean', 'seq.layer2.0.downsample.1.running_var', 'seq.layer2.0.downsample.1.num_batches_tracked', 'seq.layer2.1.conv1.weight', 'seq.layer2.1.bn1.weight', 'seq.layer2.1.bn1.bias', 'seq.layer2.1.bn1.running_mean', 'seq.layer2.1.bn1.running_var', 'seq.layer2.1.bn1.num_batches_tracked', 'seq.layer2.1.conv2.weight', 'seq.layer2.1.bn2.weight', 'seq.layer2.1.bn2.bias', 'seq.layer2.1.bn2.running_mean', 'seq.layer2.1.bn2.running_var', 'seq.layer2.1.bn2.num_batches_tracked', 'seq.layer3.0.conv1.weight', 'seq.layer3.0.bn1.weight', 'seq.layer3.0.bn1.bias', 'seq.layer3.0.bn1.running_mean', 'seq.layer3.0.bn1.running_var', 'seq.layer3.0.bn1.num_batches_tracked', 'seq.layer3.0.conv2.weight', 'seq.layer3.0.bn2.weight', 'seq.layer3.0.bn2.bias', 'seq.layer3.0.bn2.running_mean', 'seq.layer3.0.bn2.running_var', 'seq.layer3.0.bn2.num_batches_tracked', 'seq.layer3.0.downsample.0.weight', 'seq.layer3.0.downsample.1.weight', 'seq.layer3.0.downsample.1.bias', 'seq.layer3.0.downsample.1.running_mean', 'seq.layer3.0.downsample.1.running_var', 'seq.layer3.0.downsample.1.num_batches_tracked', 'seq.layer3.1.conv1.weight', 'seq.layer3.1.bn1.weight', 'seq.layer3.1.bn1.bias', 'seq.layer3.1.bn1.running_mean', 'seq.layer3.1.bn1.running_var', 'seq.layer3.1.bn1.num_batches_tracked', 'seq.layer3.1.conv2.weight', 'seq.layer3.1.bn2.weight', 'seq.layer3.1.bn2.bias', 'seq.layer3.1.bn2.running_mean', 'seq.layer3.1.bn2.running_var', 'seq.layer3.1.bn2.num_batches_tracked', 'seq.layer4.0.conv1.weight', 'seq.layer4.0.bn1.weight', 'seq.layer4.0.bn1.bias', 'seq.layer4.0.bn1.running_mean', 'seq.layer4.0.bn1.running_var', 'seq.layer4.0.bn1.num_batches_tracked', 'seq.layer4.0.conv2.weight', 'seq.layer4.0.bn2.weight', 'seq.layer4.0.bn2.bias', 'seq.layer4.0.bn2.running_mean', 'seq.layer4.0.bn2.running_var', 'seq.layer4.0.bn2.num_batches_tracked', 'seq.layer4.0.downsample.0.weight', 'seq.layer4.0.downsample.1.weight', 'seq.layer4.0.downsample.1.bias', 'seq.layer4.0.downsample.1.running_mean', 'seq.layer4.0.downsample.1.running_var', 'seq.layer4.0.downsample.1.num_batches_tracked', 'seq.layer4.1.conv1.weight', 'seq.layer4.1.bn1.weight', 'seq.layer4.1.bn1.bias', 'seq.layer4.1.bn1.running_mean', 'seq.layer4.1.bn1.running_var', 'seq.layer4.1.bn1.num_batches_tracked', 'seq.layer4.1.conv2.weight', 'seq.layer4.1.bn2.weight', 'seq.layer4.1.bn2.bias', 'seq.layer4.1.bn2.running_mean', 'seq.layer4.1.bn2.running_var', 'seq.layer4.1.bn2.num_batches_tracked', 'seq.fc.weight', 'seq.fc.bias'])"
      ]
     },
     "execution_count": 8,
     "metadata": {},
     "output_type": "execute_result"
    }
   ],
   "source": [
    "model.keys()"
   ]
  },
  {
   "cell_type": "code",
   "execution_count": 10,
   "metadata": {},
   "outputs": [
    {
     "data": {
      "text/plain": [
       "torch.Size([10, 512])"
      ]
     },
     "execution_count": 10,
     "metadata": {},
     "output_type": "execute_result"
    }
   ],
   "source": [
    "model['seq.fc.weight'].shape"
   ]
  },
  {
   "cell_type": "code",
   "execution_count": 11,
   "metadata": {},
   "outputs": [
    {
     "data": {
      "text/plain": [
       "torch.Size([10])"
      ]
     },
     "execution_count": 11,
     "metadata": {},
     "output_type": "execute_result"
    }
   ],
   "source": [
    "model['seq.fc.bias'].shape"
   ]
  },
  {
   "cell_type": "code",
   "execution_count": null,
   "metadata": {},
   "outputs": [],
   "source": []
  }
 ],
 "metadata": {
  "kernelspec": {
   "display_name": "RL",
   "language": "python",
   "name": "python3"
  },
  "language_info": {
   "codemirror_mode": {
    "name": "ipython",
    "version": 3
   },
   "file_extension": ".py",
   "mimetype": "text/x-python",
   "name": "python",
   "nbconvert_exporter": "python",
   "pygments_lexer": "ipython3",
   "version": "3.12.2"
  }
 },
 "nbformat": 4,
 "nbformat_minor": 2
}
